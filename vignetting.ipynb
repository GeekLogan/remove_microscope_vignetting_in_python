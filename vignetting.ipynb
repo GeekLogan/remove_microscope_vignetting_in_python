{
 "cells": [
  {
   "cell_type": "code",
   "execution_count": 1,
   "metadata": {},
   "outputs": [
    {
     "name": "stdout",
     "output_type": "stream",
     "text": [
      "Requirement already satisfied: tifffile in /Users/logan/anaconda3/lib/python3.7/site-packages (2020.6.3)\n",
      "Requirement already satisfied: numpy>=1.15.1 in /Users/logan/anaconda3/lib/python3.7/site-packages (from tifffile) (1.18.1)\n",
      "\u001b[33mWARNING: You are using pip version 20.2.3; however, version 20.3.3 is available.\n",
      "You should consider upgrading via the '/Users/logan/anaconda3/bin/python -m pip install --upgrade pip' command.\u001b[0m\n"
     ]
    }
   ],
   "source": [
    "!pip install tifffile"
   ]
  },
  {
   "cell_type": "code",
   "execution_count": 10,
   "metadata": {},
   "outputs": [],
   "source": [
    "import tifffile\n",
    "import numpy as np"
   ]
  },
  {
   "cell_type": "code",
   "execution_count": 27,
   "metadata": {},
   "outputs": [
    {
     "name": "stdout",
     "output_type": "stream",
     "text": [
      "Image Size: (371, 239)\n",
      "\n",
      "Start Image Size: (371, 239)\n",
      "Background Image Size: (371, 239)\n"
     ]
    }
   ],
   "source": [
    "#load an example image from https://www.ncbi.nlm.nih.gov/pmc/articles/PMC1770032/\n",
    "img = tifffile.imread( 'ex1.tif' )\n",
    "print( \"Image Size:\", img.shape )\n",
    "print()\n",
    "\n",
    "#split the example image into start and background image\n",
    "start_img = img[:int(371/2)+1,:]\n",
    "background_img = img[int(371/2):,:]\n",
    "print( \"Start Image Size:\", img.shape )\n",
    "print( \"Background Image Size:\", img.shape )"
   ]
  },
  {
   "cell_type": "code",
   "execution_count": 37,
   "metadata": {},
   "outputs": [],
   "source": [
    "background_img_norm = np.array( background_img, dtype=float)\n",
    "background_img_norm /= np.max( background_img_norm )"
   ]
  },
  {
   "cell_type": "code",
   "execution_count": null,
   "metadata": {},
   "outputs": [],
   "source": []
  }
 ],
 "metadata": {
  "kernelspec": {
   "display_name": "Python 3",
   "language": "python",
   "name": "python3"
  },
  "language_info": {
   "codemirror_mode": {
    "name": "ipython",
    "version": 3
   },
   "file_extension": ".py",
   "mimetype": "text/x-python",
   "name": "python",
   "nbconvert_exporter": "python",
   "pygments_lexer": "ipython3",
   "version": "3.7.6"
  }
 },
 "nbformat": 4,
 "nbformat_minor": 4
}
